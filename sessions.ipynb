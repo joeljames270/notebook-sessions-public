{
 "cells": [
  {
   "cell_type": "code",
   "execution_count": 1,
   "id": "6d640b61",
   "metadata": {},
   "outputs": [
    {
     "name": "stdout",
     "output_type": "stream",
     "text": [
      "Welcome to the Glue Interactive Sessions Kernel\n",
      "For more information on available magic commands, please type %help in any new cell.\n",
      "\n",
      "Please view our Getting Started page to access the most up-to-date information on the Interactive Sessions kernel: https://docs.aws.amazon.com/glue/latest/dg/interactive-sessions.html\n",
      "Authenticating with profile=default\n",
      "glue_role_arn defined by user: arn:aws:iam::869480666253:role/cdap-custom-06ddf0d2-3083-43d8-bfaf-06c9fa109c1b-Role\n",
      "Trying to create a Glue session for the kernel.\n",
      "Worker Type: G.1X\n",
      "Number of Workers: 5\n",
      "Session ID: 18bd7b27-c563-49bb-bbed-56cce09238c7\n",
      "Job Type: glueetl\n",
      "Applying the following default arguments:\n",
      "--glue_kernel_version 0.38.3\n",
      "--enable-glue-datacatalog true\n",
      "Waiting for session 18bd7b27-c563-49bb-bbed-56cce09238c7 to get into ready status...\n",
      "Session 18bd7b27-c563-49bb-bbed-56cce09238c7 has been created.\n",
      "Initial commit from notebook\n"
     ]
    }
   ],
   "source": [
    "print(\"Initial commit from notebook\")"
   ]
  },
  {
   "cell_type": "code",
   "execution_count": null,
   "id": "70b7a4cf",
   "metadata": {},
   "outputs": [],
   "source": []
  }
 ],
 "metadata": {
  "kernelspec": {
   "display_name": "conda_glue_pyspark",
   "language": "python",
   "name": "conda-env-glue_pyspark-glue_pyspark"
  },
  "language_info": {
   "codemirror_mode": {
    "name": "python",
    "version": 3
   },
   "file_extension": ".py",
   "mimetype": "text/x-python",
   "name": "Python_Glue_Session",
   "pygments_lexer": "python3"
  }
 },
 "nbformat": 4,
 "nbformat_minor": 5
}
